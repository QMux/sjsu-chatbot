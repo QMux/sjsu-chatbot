{
 "cells": [
  {
   "cell_type": "code",
   "execution_count": 2,
   "metadata": {},
   "outputs": [],
   "source": [
    "from bs4 import BeautifulSoup\n",
    "import requests\n",
    "from tqdm import tqdm\n",
    "import ast\n",
    "import pandas as pd\n",
    "\n",
    "# Grab the 'menu' item from the American Kennel Club (AKC) website\n",
    "dog_breed_main = requests.get('https://www.akc.org/dog-breeds/') \n",
    "soup = BeautifulSoup(dog_breed_main.content, 'html.parser')\n",
    "menu = soup.find('div', {'class':'custom-select'})"
   ]
  },
  {
   "cell_type": "code",
   "execution_count": 3,
   "metadata": {},
   "outputs": [],
   "source": [
    "# Then re-parse menu to get list of links to each breed\n",
    "menu_soup = BeautifulSoup(str(menu), 'html.parser')\n",
    "breed_results = menu_soup.find_all('option')[1:]\n",
    "breed_links = [result['value'] for result in breed_results]"
   ]
  },
  {
   "cell_type": "code",
   "execution_count": 4,
   "metadata": {},
   "outputs": [
    {
     "name": "stderr",
     "output_type": "stream",
     "text": [
      "100%|██████████| 281/281 [02:42<00:00,  1.72it/s]\n"
     ]
    }
   ],
   "source": [
    "# Scrape each link for information\n",
    "\n",
    "prefix = 'googletag.pubads().setTargeting'\n",
    "dog_char_list = []\n",
    "\n",
    "for link in tqdm(breed_links):\n",
    "    breed_html = requests.get(link)\n",
    "    bs = BeautifulSoup(breed_html.content, 'html.parser')\n",
    "    js_ads = [script for script in bs.find_all('script') if \"googletag.pubads()\" in str(script)][0]\n",
    "    pub_ads = [ad.strip()[len(prefix):-1] for ad in str(js_ads).split('\\n') if 'googletag.pubads().setTargeting' in ad]\n",
    "    dog_chars = [ast.literal_eval(char) for char in pub_ads] \n",
    "    dog_char_list.append(dog_chars)"
   ]
  },
  {
   "cell_type": "code",
   "execution_count": 5,
   "metadata": {},
   "outputs": [],
   "source": [
    "dog_char_df = pd.DataFrame(columns=['Breed', 'Size', 'Group'])\n",
    "dog_char_df_array = []\n",
    "bad_links = ['spinone-italiano']\n",
    "\n",
    "def parse_characteristics(chars):\n",
    "    valid = {\n",
    "        'coat-type': ['hairless', 'medium', 'smooth', 'short', 'long', 'medium'],\n",
    "        'barking-level': ['when-necessary', 'medium', 'likes-to-be-vocal', 'infrequent', 'frequent'],\n",
    "        'trainability': ['may-be-stubborn', 'eager-to-please', 'easy-training', 'agreeable', 'independent'],\n",
    "        'shedding': ['seasonal', 'infrequent', 'frequent', 'occasional', 'regularly'], \n",
    "        'activity-level': ['needs-lots-of-activity', 'regular-exercise', 'energetic', 'calm']\n",
    "    }\n",
    "    char_dict = {}\n",
    "    for subchar in valid.keys():\n",
    "        subchar_types = [char for char in chars if char.startswith(subchar)]\n",
    "        if len(subchar_types) >= 1:\n",
    "            char_dict[subchar] = subchar_types[0][len(subchar)+1:]\n",
    "        else:\n",
    "            char_dict[subchar] = 'unknown'\n",
    "            \n",
    "    return [char_dict['coat-type'], char_dict['barking-level'], char_dict['trainability'], char_dict['shedding'], char_dict['activity-level']]\n",
    "            \n",
    "        \n",
    "for dog_char in dog_char_list:\n",
    "    dog_char_dict = {x:y for x,y in dog_char}  \n",
    "    if dog_char_dict['breed'] not in bad_links:\n",
    "        df_row = [str.capitalize(dog_char_dict['breed']), dog_char_dict['size'], dog_char_dict['group']]\n",
    "        dog_char_df_array.append(df_row + parse_characteristics(dog_char_dict['characteristic']))\n"
   ]
  },
  {
   "cell_type": "code",
   "execution_count": 11,
   "metadata": {},
   "outputs": [],
   "source": [
    "df = pd.DataFrame(data=dog_char_df_array, columns=[\"breed\", \"size\", \"group\", \"coat_type\", \"barking_level\", \"trainability\", \"shedding\", \"activity_level\"])\n",
    "df['coat_type'] = df['coat_type'].replace('medium', 'fair')\n",
    "df['barking_level'] = df['barking_level'].replace(['unknown', 'medium'], 'average')\n",
    "df['barking_level'] = df['barking_level'].replace('frequent', 'often')\n",
    "df['barking_level'] = df['barking_level'].replace('infrequent', 'less')\n",
    "df['activity_level'] = df['activity_level'].replace('regular-exercise', 'consistent')"
   ]
  },
  {
   "cell_type": "code",
   "execution_count": 12,
   "metadata": {},
   "outputs": [
    {
     "name": "stdout",
     "output_type": "stream",
     "text": [
      "                 breed    size                     group coat_type  \\\n",
      "0        Affenpinscher  xsmall                       toy      wire   \n",
      "1         Afghan-hound   large                     hound      long   \n",
      "2     Airedale-terrier  medium                   terrier      wire   \n",
      "3                Akita  xlarge                   working      fair   \n",
      "4     Alaskan-klee-kai  medium  foundation-stock-service      fair   \n",
      "..                 ...     ...                       ...       ...   \n",
      "275  Wirehaired-vizsla  medium                  sporting      wire   \n",
      "276     Working-kelpie  medium  foundation-stock-service     short   \n",
      "277     Xoloitzcuintli  medium              non-sporting  hairless   \n",
      "278     Yakutian-laika  medium  foundation-stock-service      fair   \n",
      "279  Yorkshire-terrier  xsmall                       toy      long   \n",
      "\n",
      "      barking_level     trainability    shedding activity_level  \n",
      "0           average    easy-training    seasonal     consistent  \n",
      "1           average  may-be-stubborn  infrequent      energetic  \n",
      "2           average  eager-to-please  occasional     consistent  \n",
      "3              less  eager-to-please    seasonal      energetic  \n",
      "4           average        agreeable    seasonal      energetic  \n",
      "..              ...              ...         ...            ...  \n",
      "275         average        agreeable    seasonal      energetic  \n",
      "276  when-necessary    easy-training    seasonal      energetic  \n",
      "277         average        agreeable  infrequent      energetic  \n",
      "278         average  may-be-stubborn    seasonal     consistent  \n",
      "279         average  may-be-stubborn  infrequent     consistent  \n",
      "\n",
      "[280 rows x 8 columns]\n"
     ]
    }
   ],
   "source": [
    "df.to_csv(\"dog_breed_characteristics.csv\")\n",
    "print(df)"
   ]
  },
  {
   "cell_type": "code",
   "execution_count": null,
   "metadata": {},
   "outputs": [],
   "source": []
  }
 ],
 "metadata": {
  "kernelspec": {
   "display_name": "Python 3",
   "language": "python",
   "name": "python3"
  },
  "language_info": {
   "codemirror_mode": {
    "name": "ipython",
    "version": 3
   },
   "file_extension": ".py",
   "mimetype": "text/x-python",
   "name": "python",
   "nbconvert_exporter": "python",
   "pygments_lexer": "ipython3",
   "version": "3.8.5"
  }
 },
 "nbformat": 4,
 "nbformat_minor": 5
}
