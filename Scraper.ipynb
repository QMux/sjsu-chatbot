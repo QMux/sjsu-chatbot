{
 "cells": [
  {
   "cell_type": "code",
   "execution_count": 67,
   "id": "stone-prison",
   "metadata": {},
   "outputs": [],
   "source": [
    "from bs4 import BeautifulSoup\n",
    "import requests\n",
    "from tqdm import tqdm\n",
    "import ast\n",
    "import pandas as pd\n",
    "\n",
    "# Grab the 'menu' item from the American Kennel Club (AKC) website\n",
    "dog_breed_main = requests.get('https://www.akc.org/dog-breeds/') \n",
    "soup = BeautifulSoup(dog_breed_main.content, 'html.parser')\n",
    "menu = soup.find('div', {'class':'custom-select'})"
   ]
  },
  {
   "cell_type": "code",
   "execution_count": 68,
   "id": "pending-liberty",
   "metadata": {},
   "outputs": [],
   "source": [
    "# Then re-parse menu to get list of links to each breed\n",
    "menu_soup = BeautifulSoup(str(menu), 'html.parser')\n",
    "breed_results = menu_soup.find_all('option')[1:]\n",
    "breed_links = [result['value'] for result in breed_results]"
   ]
  },
  {
   "cell_type": "code",
   "execution_count": 69,
   "id": "crude-breeding",
   "metadata": {},
   "outputs": [
    {
     "name": "stderr",
     "output_type": "stream",
     "text": [
      "100%|██████████| 281/281 [01:54<00:00,  2.45it/s]\n"
     ]
    }
   ],
   "source": [
    "# Scrape each link for information\n",
    "\n",
    "prefix = 'googletag.pubads().setTargeting'\n",
    "dog_char_list = []\n",
    "\n",
    "for link in tqdm(breed_links):\n",
    "    breed_html = requests.get(link)\n",
    "    bs = BeautifulSoup(breed_html.content, 'html.parser')\n",
    "    js_ads = [script for script in bs.find_all('script') if \"googletag.pubads()\" in str(script)][0]\n",
    "    pub_ads = [ad.strip()[len(prefix):-1] for ad in str(js_ads).split('\\n') if 'googletag.pubads().setTargeting' in ad]\n",
    "    dog_chars = [ast.literal_eval(char) for char in pub_ads] \n",
    "    dog_char_list.append(dog_chars)"
   ]
  },
  {
   "cell_type": "code",
   "execution_count": 70,
   "id": "indian-papua",
   "metadata": {},
   "outputs": [
    {
     "name": "stdout",
     "output_type": "stream",
     "text": [
      "281\n"
     ]
    }
   ],
   "source": [
    "print(len(dog_char_list)) "
   ]
  },
  {
   "cell_type": "code",
   "execution_count": null,
   "id": "proprietary-convert",
   "metadata": {},
   "outputs": [],
   "source": []
  }
 ],
 "metadata": {
  "kernelspec": {
   "display_name": "Python 3",
   "language": "python",
   "name": "python3"
  },
  "language_info": {
   "codemirror_mode": {
    "name": "ipython",
    "version": 3
   },
   "file_extension": ".py",
   "mimetype": "text/x-python",
   "name": "python",
   "nbconvert_exporter": "python",
   "pygments_lexer": "ipython3",
   "version": "3.9.1"
  }
 },
 "nbformat": 4,
 "nbformat_minor": 5
}
